{
 "cells": [
  {
   "cell_type": "code",
   "execution_count": 1,
   "metadata": {},
   "outputs": [
    {
     "name": "stderr",
     "output_type": "stream",
     "text": [
      "2022-09-06 16:24:46.834259: I tensorflow/core/util/util.cc:169] oneDNN custom operations are on. You may see slightly different numerical results due to floating-point round-off errors from different computation orders. To turn them off, set the environment variable `TF_ENABLE_ONEDNN_OPTS=0`.\n"
     ]
    }
   ],
   "source": [
    "import os\n",
    "import numpy as np\n",
    "import pandas as pd\n",
    "from shutil import copyfile\n",
    "from tensorflow import keras\n",
    "from keras.preprocessing.image import ImageDataGenerator\n",
    "from keras.preprocessing.image import DirectoryIterator\n",
    "from keras import backend as K\n",
    "from keras import layers as L\n",
    "from keras.models import Model,load_model\n",
    "from keras.regularizers import l2\n",
    "from keras.callbacks import ModelCheckpoint,ReduceLROnPlateau,EarlyStopping\n"
   ]
  },
  {
   "cell_type": "code",
   "execution_count": 2,
   "metadata": {},
   "outputs": [
    {
     "ename": "FileExistsError",
     "evalue": "[Errno 17] File exists: './images/'",
     "output_type": "error",
     "traceback": [
      "\u001b[0;31m---------------------------------------------------------------------------\u001b[0m",
      "\u001b[0;31mFileExistsError\u001b[0m                           Traceback (most recent call last)",
      "Input \u001b[0;32mIn [2]\u001b[0m, in \u001b[0;36m<cell line: 1>\u001b[0;34m()\u001b[0m\n\u001b[0;32m----> 1\u001b[0m \u001b[43mos\u001b[49m\u001b[38;5;241;43m.\u001b[39;49m\u001b[43mmkdir\u001b[49m\u001b[43m(\u001b[49m\u001b[38;5;124;43m'\u001b[39;49m\u001b[38;5;124;43m./images/\u001b[39;49m\u001b[38;5;124;43m'\u001b[39;49m\u001b[43m)\u001b[49m\n\u001b[1;32m      2\u001b[0m alpha \u001b[38;5;241m=\u001b[39m \u001b[38;5;124m'\u001b[39m\u001b[38;5;124ma\u001b[39m\u001b[38;5;124m'\u001b[39m\n\u001b[1;32m      3\u001b[0m \u001b[38;5;28;01mfor\u001b[39;00m i \u001b[38;5;129;01min\u001b[39;00m \u001b[38;5;28mrange\u001b[39m(\u001b[38;5;241m0\u001b[39m, \u001b[38;5;241m26\u001b[39m):\n",
      "\u001b[0;31mFileExistsError\u001b[0m: [Errno 17] File exists: './images/'"
     ]
    }
   ],
   "source": [
    "os.mkdir('./images/')\n",
    "alpha = 'a'\n",
    "for i in range(0, 26):\n",
    "    os.mkdir('./images/' + alpha)\n",
    "    alpha = chr(ord(alpha) + 1)\n",
    "\n",
    "rootdir = '/home/ichiro/KP_braille/Braille Dataset/'\n",
    "for file in os.listdir(rootdir):\n",
    "    letter = file[0]\n",
    "    copyfile(rootdir+file, './images/' + letter + '/' + file)\n"
   ]
  },
  {
   "cell_type": "code",
   "execution_count": 3,
   "metadata": {},
   "outputs": [
    {
     "name": "stdout",
     "output_type": "stream",
     "text": [
      "Found 4672 images belonging to 36 classes.\n",
      "Found 4356 images belonging to 36 classes.\n"
     ]
    }
   ],
   "source": [
    "train_data = '/home/ichiro/KP_braille/resize_images_V3/train'\n",
    "val_data = '/home/ichiro/KP_braille/resize_images_V3/valid'\n",
    "\n",
    "datagen = ImageDataGenerator(rescale=1./255,\n",
    "                             fill_mode='nearest')\n",
    "# val_datagen = Im\n",
    "\n",
    "valid_datagen = ImageDataGenerator(rescale = 1/255.)\n",
    "\n",
    "train_generator = datagen.flow_from_directory(train_data,\n",
    "                                              batch_size = 32,\n",
    "                                              target_size=(28,28),\n",
    "                                              class_mode = 'categorical')\n",
    "\n",
    "val_generator = valid_datagen.flow_from_directory(val_data,\n",
    "                                                  target_size=(28,28),\n",
    "                                                  batch_size = 32,\n",
    "                                                  class_mode = 'categorical')\n",
    "    \n",
    "# test_data =  DirectoryIterator('/home/ichiro/KP_braille/images', test_datagen)"
   ]
  },
  {
   "cell_type": "code",
   "execution_count": 4,
   "metadata": {},
   "outputs": [],
   "source": [
    "K.clear_session()\n",
    "\n",
    "model_ckpt = ModelCheckpoint('Braille_own.h5 ', save_best_only=True)\n",
    "reduce_lr = ReduceLROnPlateau(patience=8, verbose=0)\n",
    "early_stop = EarlyStopping(patience=15, verbose=1)\n"
   ]
  },
  {
   "cell_type": "code",
   "execution_count": 5,
   "metadata": {},
   "outputs": [
    {
     "name": "stderr",
     "output_type": "stream",
     "text": [
      "2022-09-06 16:25:01.477639: E tensorflow/stream_executor/cuda/cuda_driver.cc:271] failed call to cuInit: CUDA_ERROR_NO_DEVICE: no CUDA-capable device is detected\n",
      "2022-09-06 16:25:01.477702: I tensorflow/stream_executor/cuda/cuda_diagnostics.cc:156] kernel driver does not appear to be running on this host (Zidane): /proc/driver/nvidia/version does not exist\n",
      "2022-09-06 16:25:01.478490: I tensorflow/core/platform/cpu_feature_guard.cc:193] This TensorFlow binary is optimized with oneAPI Deep Neural Network Library (oneDNN) to use the following CPU instructions in performance-critical operations:  AVX2 AVX512F AVX512_VNNI FMA\n",
      "To enable them in other operations, rebuild TensorFlow with the appropriate compiler flags.\n"
     ]
    }
   ],
   "source": [
    "model = L.Input(shape=(28, 28, 3))\n",
    "x = L.SeparableConv2D(64, (3, 3), activation='relu')(model)\n",
    "x = L.MaxPooling2D((2, 2))(x)\n",
    "x = L.SeparableConv2D(128, (3, 3), activation='relu')(x)\n",
    "x = L.MaxPooling2D((2, 2))(x)\n",
    "x = L.SeparableConv2D(256, (2, 2), activation='relu')(x)\n",
    "x = L.GlobalMaxPooling2D()(x)\n",
    "x = L.Dense(256)(x)\n",
    "x = L.LeakyReLU()(x)\n",
    "x = L.Dense(64)(x)\n",
    "x = L.LeakyReLU()(x)\n",
    "x = L.Dense(26, activation='softmax')(x)\n",
    "\n",
    "model = Model(model, x)\n",
    "model.compile(loss='categorical_crossentropy', optimizer='adam', metrics=['accuracy'])"
   ]
  },
  {
   "cell_type": "code",
   "execution_count": 10,
   "metadata": {},
   "outputs": [
    {
     "name": "stdout",
     "output_type": "stream",
     "text": [
      "Model: \"model\"\n",
      "_________________________________________________________________\n",
      " Layer (type)                Output Shape              Param #   \n",
      "=================================================================\n",
      " input_1 (InputLayer)        [(None, 28, 28, 3)]       0         \n",
      "                                                                 \n",
      " separable_conv2d (Separable  (None, 26, 26, 64)       283       \n",
      " Conv2D)                                                         \n",
      "                                                                 \n",
      " max_pooling2d (MaxPooling2D  (None, 13, 13, 64)       0         \n",
      " )                                                               \n",
      "                                                                 \n",
      " separable_conv2d_1 (Separab  (None, 11, 11, 128)      8896      \n",
      " leConv2D)                                                       \n",
      "                                                                 \n",
      " max_pooling2d_1 (MaxPooling  (None, 5, 5, 128)        0         \n",
      " 2D)                                                             \n",
      "                                                                 \n",
      " separable_conv2d_2 (Separab  (None, 4, 4, 256)        33536     \n",
      " leConv2D)                                                       \n",
      "                                                                 \n",
      " global_max_pooling2d (Globa  (None, 256)              0         \n",
      " lMaxPooling2D)                                                  \n",
      "                                                                 \n",
      " dense (Dense)               (None, 256)               65792     \n",
      "                                                                 \n",
      " leaky_re_lu (LeakyReLU)     (None, 256)               0         \n",
      "                                                                 \n",
      " dense_1 (Dense)             (None, 64)                16448     \n",
      "                                                                 \n",
      " leaky_re_lu_1 (LeakyReLU)   (None, 64)                0         \n",
      "                                                                 \n",
      " dense_2 (Dense)             (None, 26)                1690      \n",
      "                                                                 \n",
      "=================================================================\n",
      "Total params: 126,645\n",
      "Trainable params: 126,645\n",
      "Non-trainable params: 0\n",
      "_________________________________________________________________\n"
     ]
    }
   ],
   "source": [
    "model.summary()"
   ]
  },
  {
   "cell_type": "code",
   "execution_count": 6,
   "metadata": {},
   "outputs": [
    {
     "name": "stdout",
     "output_type": "stream",
     "text": [
      "Epoch 1/200\n"
     ]
    },
    {
     "ename": "InvalidArgumentError",
     "evalue": "Graph execution error:\n\nDetected at node 'categorical_crossentropy/softmax_cross_entropy_with_logits' defined at (most recent call last):\n    File \"/home/ichiro/anaconda3/lib/python3.9/runpy.py\", line 197, in _run_module_as_main\n      return _run_code(code, main_globals, None,\n    File \"/home/ichiro/anaconda3/lib/python3.9/runpy.py\", line 87, in _run_code\n      exec(code, run_globals)\n    File \"/home/ichiro/anaconda3/lib/python3.9/site-packages/ipykernel_launcher.py\", line 17, in <module>\n      app.launch_new_instance()\n    File \"/home/ichiro/anaconda3/lib/python3.9/site-packages/traitlets/config/application.py\", line 846, in launch_instance\n      app.start()\n    File \"/home/ichiro/anaconda3/lib/python3.9/site-packages/ipykernel/kernelapp.py\", line 712, in start\n      self.io_loop.start()\n    File \"/home/ichiro/anaconda3/lib/python3.9/site-packages/tornado/platform/asyncio.py\", line 199, in start\n      self.asyncio_loop.run_forever()\n    File \"/home/ichiro/anaconda3/lib/python3.9/asyncio/base_events.py\", line 601, in run_forever\n      self._run_once()\n    File \"/home/ichiro/anaconda3/lib/python3.9/asyncio/base_events.py\", line 1905, in _run_once\n      handle._run()\n    File \"/home/ichiro/anaconda3/lib/python3.9/asyncio/events.py\", line 80, in _run\n      self._context.run(self._callback, *self._args)\n    File \"/home/ichiro/anaconda3/lib/python3.9/site-packages/ipykernel/kernelbase.py\", line 510, in dispatch_queue\n      await self.process_one()\n    File \"/home/ichiro/anaconda3/lib/python3.9/site-packages/ipykernel/kernelbase.py\", line 499, in process_one\n      await dispatch(*args)\n    File \"/home/ichiro/anaconda3/lib/python3.9/site-packages/ipykernel/kernelbase.py\", line 406, in dispatch_shell\n      await result\n    File \"/home/ichiro/anaconda3/lib/python3.9/site-packages/ipykernel/kernelbase.py\", line 730, in execute_request\n      reply_content = await reply_content\n    File \"/home/ichiro/anaconda3/lib/python3.9/site-packages/ipykernel/ipkernel.py\", line 390, in do_execute\n      res = shell.run_cell(code, store_history=store_history, silent=silent)\n    File \"/home/ichiro/anaconda3/lib/python3.9/site-packages/ipykernel/zmqshell.py\", line 528, in run_cell\n      return super().run_cell(*args, **kwargs)\n    File \"/home/ichiro/anaconda3/lib/python3.9/site-packages/IPython/core/interactiveshell.py\", line 2863, in run_cell\n      result = self._run_cell(\n    File \"/home/ichiro/anaconda3/lib/python3.9/site-packages/IPython/core/interactiveshell.py\", line 2909, in _run_cell\n      return runner(coro)\n    File \"/home/ichiro/anaconda3/lib/python3.9/site-packages/IPython/core/async_helpers.py\", line 129, in _pseudo_sync_runner\n      coro.send(None)\n    File \"/home/ichiro/anaconda3/lib/python3.9/site-packages/IPython/core/interactiveshell.py\", line 3106, in run_cell_async\n      has_raised = await self.run_ast_nodes(code_ast.body, cell_name,\n    File \"/home/ichiro/anaconda3/lib/python3.9/site-packages/IPython/core/interactiveshell.py\", line 3309, in run_ast_nodes\n      if await self.run_code(code, result, async_=asy):\n    File \"/home/ichiro/anaconda3/lib/python3.9/site-packages/IPython/core/interactiveshell.py\", line 3369, in run_code\n      exec(code_obj, self.user_global_ns, self.user_ns)\n    File \"/tmp/ipykernel_13887/43160568.py\", line 1, in <cell line: 1>\n      history = model.fit(train_generator,\n    File \"/home/ichiro/anaconda3/lib/python3.9/site-packages/keras/utils/traceback_utils.py\", line 64, in error_handler\n      return fn(*args, **kwargs)\n    File \"/home/ichiro/anaconda3/lib/python3.9/site-packages/keras/engine/training.py\", line 1409, in fit\n      tmp_logs = self.train_function(iterator)\n    File \"/home/ichiro/anaconda3/lib/python3.9/site-packages/keras/engine/training.py\", line 1051, in train_function\n      return step_function(self, iterator)\n    File \"/home/ichiro/anaconda3/lib/python3.9/site-packages/keras/engine/training.py\", line 1040, in step_function\n      outputs = model.distribute_strategy.run(run_step, args=(data,))\n    File \"/home/ichiro/anaconda3/lib/python3.9/site-packages/keras/engine/training.py\", line 1030, in run_step\n      outputs = model.train_step(data)\n    File \"/home/ichiro/anaconda3/lib/python3.9/site-packages/keras/engine/training.py\", line 890, in train_step\n      loss = self.compute_loss(x, y, y_pred, sample_weight)\n    File \"/home/ichiro/anaconda3/lib/python3.9/site-packages/keras/engine/training.py\", line 948, in compute_loss\n      return self.compiled_loss(\n    File \"/home/ichiro/anaconda3/lib/python3.9/site-packages/keras/engine/compile_utils.py\", line 201, in __call__\n      loss_value = loss_obj(y_t, y_p, sample_weight=sw)\n    File \"/home/ichiro/anaconda3/lib/python3.9/site-packages/keras/losses.py\", line 139, in __call__\n      losses = call_fn(y_true, y_pred)\n    File \"/home/ichiro/anaconda3/lib/python3.9/site-packages/keras/losses.py\", line 243, in call\n      return ag_fn(y_true, y_pred, **self._fn_kwargs)\n    File \"/home/ichiro/anaconda3/lib/python3.9/site-packages/keras/losses.py\", line 1787, in categorical_crossentropy\n      return backend.categorical_crossentropy(\n    File \"/home/ichiro/anaconda3/lib/python3.9/site-packages/keras/backend.py\", line 5134, in categorical_crossentropy\n      return tf.nn.softmax_cross_entropy_with_logits(\nNode: 'categorical_crossentropy/softmax_cross_entropy_with_logits'\nlogits and labels must be broadcastable: logits_size=[32,26] labels_size=[32,36]\n\t [[{{node categorical_crossentropy/softmax_cross_entropy_with_logits}}]] [Op:__inference_train_function_1187]",
     "output_type": "error",
     "traceback": [
      "\u001b[0;31m---------------------------------------------------------------------------\u001b[0m",
      "\u001b[0;31mInvalidArgumentError\u001b[0m                      Traceback (most recent call last)",
      "Input \u001b[0;32mIn [6]\u001b[0m, in \u001b[0;36m<cell line: 1>\u001b[0;34m()\u001b[0m\n\u001b[0;32m----> 1\u001b[0m history \u001b[38;5;241m=\u001b[39m \u001b[43mmodel\u001b[49m\u001b[38;5;241;43m.\u001b[39;49m\u001b[43mfit\u001b[49m\u001b[43m(\u001b[49m\u001b[43mtrain_generator\u001b[49m\u001b[43m,\u001b[49m\n\u001b[1;32m      2\u001b[0m \u001b[43m                                  \u001b[49m\u001b[43mvalidation_data\u001b[49m\u001b[38;5;241;43m=\u001b[39;49m\u001b[43mval_generator\u001b[49m\u001b[43m,\u001b[49m\n\u001b[1;32m      3\u001b[0m \u001b[43m                                  \u001b[49m\u001b[43mepochs\u001b[49m\u001b[38;5;241;43m=\u001b[39;49m\u001b[38;5;241;43m200\u001b[39;49m\u001b[43m,\u001b[49m\n\u001b[1;32m      4\u001b[0m \u001b[43m                                  \u001b[49m\u001b[38;5;66;43;03m# callbacks=[model_ckpt,reduce_lr],\u001b[39;49;00m\n\u001b[1;32m      5\u001b[0m \u001b[43m                                  \u001b[49m\u001b[43mverbose\u001b[49m\u001b[38;5;241;43m=\u001b[39;49m\u001b[38;5;241;43m1\u001b[39;49m\u001b[43m)\u001b[49m\n",
      "File \u001b[0;32m~/anaconda3/lib/python3.9/site-packages/keras/utils/traceback_utils.py:67\u001b[0m, in \u001b[0;36mfilter_traceback.<locals>.error_handler\u001b[0;34m(*args, **kwargs)\u001b[0m\n\u001b[1;32m     65\u001b[0m \u001b[38;5;28;01mexcept\u001b[39;00m \u001b[38;5;167;01mException\u001b[39;00m \u001b[38;5;28;01mas\u001b[39;00m e:  \u001b[38;5;66;03m# pylint: disable=broad-except\u001b[39;00m\n\u001b[1;32m     66\u001b[0m   filtered_tb \u001b[38;5;241m=\u001b[39m _process_traceback_frames(e\u001b[38;5;241m.\u001b[39m__traceback__)\n\u001b[0;32m---> 67\u001b[0m   \u001b[38;5;28;01mraise\u001b[39;00m e\u001b[38;5;241m.\u001b[39mwith_traceback(filtered_tb) \u001b[38;5;28;01mfrom\u001b[39;00m \u001b[38;5;28mNone\u001b[39m\n\u001b[1;32m     68\u001b[0m \u001b[38;5;28;01mfinally\u001b[39;00m:\n\u001b[1;32m     69\u001b[0m   \u001b[38;5;28;01mdel\u001b[39;00m filtered_tb\n",
      "File \u001b[0;32m~/anaconda3/lib/python3.9/site-packages/tensorflow/python/eager/execute.py:54\u001b[0m, in \u001b[0;36mquick_execute\u001b[0;34m(op_name, num_outputs, inputs, attrs, ctx, name)\u001b[0m\n\u001b[1;32m     52\u001b[0m \u001b[38;5;28;01mtry\u001b[39;00m:\n\u001b[1;32m     53\u001b[0m   ctx\u001b[38;5;241m.\u001b[39mensure_initialized()\n\u001b[0;32m---> 54\u001b[0m   tensors \u001b[38;5;241m=\u001b[39m pywrap_tfe\u001b[38;5;241m.\u001b[39mTFE_Py_Execute(ctx\u001b[38;5;241m.\u001b[39m_handle, device_name, op_name,\n\u001b[1;32m     55\u001b[0m                                       inputs, attrs, num_outputs)\n\u001b[1;32m     56\u001b[0m \u001b[38;5;28;01mexcept\u001b[39;00m core\u001b[38;5;241m.\u001b[39m_NotOkStatusException \u001b[38;5;28;01mas\u001b[39;00m e:\n\u001b[1;32m     57\u001b[0m   \u001b[38;5;28;01mif\u001b[39;00m name \u001b[38;5;129;01mis\u001b[39;00m \u001b[38;5;129;01mnot\u001b[39;00m \u001b[38;5;28;01mNone\u001b[39;00m:\n",
      "\u001b[0;31mInvalidArgumentError\u001b[0m: Graph execution error:\n\nDetected at node 'categorical_crossentropy/softmax_cross_entropy_with_logits' defined at (most recent call last):\n    File \"/home/ichiro/anaconda3/lib/python3.9/runpy.py\", line 197, in _run_module_as_main\n      return _run_code(code, main_globals, None,\n    File \"/home/ichiro/anaconda3/lib/python3.9/runpy.py\", line 87, in _run_code\n      exec(code, run_globals)\n    File \"/home/ichiro/anaconda3/lib/python3.9/site-packages/ipykernel_launcher.py\", line 17, in <module>\n      app.launch_new_instance()\n    File \"/home/ichiro/anaconda3/lib/python3.9/site-packages/traitlets/config/application.py\", line 846, in launch_instance\n      app.start()\n    File \"/home/ichiro/anaconda3/lib/python3.9/site-packages/ipykernel/kernelapp.py\", line 712, in start\n      self.io_loop.start()\n    File \"/home/ichiro/anaconda3/lib/python3.9/site-packages/tornado/platform/asyncio.py\", line 199, in start\n      self.asyncio_loop.run_forever()\n    File \"/home/ichiro/anaconda3/lib/python3.9/asyncio/base_events.py\", line 601, in run_forever\n      self._run_once()\n    File \"/home/ichiro/anaconda3/lib/python3.9/asyncio/base_events.py\", line 1905, in _run_once\n      handle._run()\n    File \"/home/ichiro/anaconda3/lib/python3.9/asyncio/events.py\", line 80, in _run\n      self._context.run(self._callback, *self._args)\n    File \"/home/ichiro/anaconda3/lib/python3.9/site-packages/ipykernel/kernelbase.py\", line 510, in dispatch_queue\n      await self.process_one()\n    File \"/home/ichiro/anaconda3/lib/python3.9/site-packages/ipykernel/kernelbase.py\", line 499, in process_one\n      await dispatch(*args)\n    File \"/home/ichiro/anaconda3/lib/python3.9/site-packages/ipykernel/kernelbase.py\", line 406, in dispatch_shell\n      await result\n    File \"/home/ichiro/anaconda3/lib/python3.9/site-packages/ipykernel/kernelbase.py\", line 730, in execute_request\n      reply_content = await reply_content\n    File \"/home/ichiro/anaconda3/lib/python3.9/site-packages/ipykernel/ipkernel.py\", line 390, in do_execute\n      res = shell.run_cell(code, store_history=store_history, silent=silent)\n    File \"/home/ichiro/anaconda3/lib/python3.9/site-packages/ipykernel/zmqshell.py\", line 528, in run_cell\n      return super().run_cell(*args, **kwargs)\n    File \"/home/ichiro/anaconda3/lib/python3.9/site-packages/IPython/core/interactiveshell.py\", line 2863, in run_cell\n      result = self._run_cell(\n    File \"/home/ichiro/anaconda3/lib/python3.9/site-packages/IPython/core/interactiveshell.py\", line 2909, in _run_cell\n      return runner(coro)\n    File \"/home/ichiro/anaconda3/lib/python3.9/site-packages/IPython/core/async_helpers.py\", line 129, in _pseudo_sync_runner\n      coro.send(None)\n    File \"/home/ichiro/anaconda3/lib/python3.9/site-packages/IPython/core/interactiveshell.py\", line 3106, in run_cell_async\n      has_raised = await self.run_ast_nodes(code_ast.body, cell_name,\n    File \"/home/ichiro/anaconda3/lib/python3.9/site-packages/IPython/core/interactiveshell.py\", line 3309, in run_ast_nodes\n      if await self.run_code(code, result, async_=asy):\n    File \"/home/ichiro/anaconda3/lib/python3.9/site-packages/IPython/core/interactiveshell.py\", line 3369, in run_code\n      exec(code_obj, self.user_global_ns, self.user_ns)\n    File \"/tmp/ipykernel_13887/43160568.py\", line 1, in <cell line: 1>\n      history = model.fit(train_generator,\n    File \"/home/ichiro/anaconda3/lib/python3.9/site-packages/keras/utils/traceback_utils.py\", line 64, in error_handler\n      return fn(*args, **kwargs)\n    File \"/home/ichiro/anaconda3/lib/python3.9/site-packages/keras/engine/training.py\", line 1409, in fit\n      tmp_logs = self.train_function(iterator)\n    File \"/home/ichiro/anaconda3/lib/python3.9/site-packages/keras/engine/training.py\", line 1051, in train_function\n      return step_function(self, iterator)\n    File \"/home/ichiro/anaconda3/lib/python3.9/site-packages/keras/engine/training.py\", line 1040, in step_function\n      outputs = model.distribute_strategy.run(run_step, args=(data,))\n    File \"/home/ichiro/anaconda3/lib/python3.9/site-packages/keras/engine/training.py\", line 1030, in run_step\n      outputs = model.train_step(data)\n    File \"/home/ichiro/anaconda3/lib/python3.9/site-packages/keras/engine/training.py\", line 890, in train_step\n      loss = self.compute_loss(x, y, y_pred, sample_weight)\n    File \"/home/ichiro/anaconda3/lib/python3.9/site-packages/keras/engine/training.py\", line 948, in compute_loss\n      return self.compiled_loss(\n    File \"/home/ichiro/anaconda3/lib/python3.9/site-packages/keras/engine/compile_utils.py\", line 201, in __call__\n      loss_value = loss_obj(y_t, y_p, sample_weight=sw)\n    File \"/home/ichiro/anaconda3/lib/python3.9/site-packages/keras/losses.py\", line 139, in __call__\n      losses = call_fn(y_true, y_pred)\n    File \"/home/ichiro/anaconda3/lib/python3.9/site-packages/keras/losses.py\", line 243, in call\n      return ag_fn(y_true, y_pred, **self._fn_kwargs)\n    File \"/home/ichiro/anaconda3/lib/python3.9/site-packages/keras/losses.py\", line 1787, in categorical_crossentropy\n      return backend.categorical_crossentropy(\n    File \"/home/ichiro/anaconda3/lib/python3.9/site-packages/keras/backend.py\", line 5134, in categorical_crossentropy\n      return tf.nn.softmax_cross_entropy_with_logits(\nNode: 'categorical_crossentropy/softmax_cross_entropy_with_logits'\nlogits and labels must be broadcastable: logits_size=[32,26] labels_size=[32,36]\n\t [[{{node categorical_crossentropy/softmax_cross_entropy_with_logits}}]] [Op:__inference_train_function_1187]"
     ]
    }
   ],
   "source": [
    "history = model.fit(train_generator,\n",
    "                                  validation_data=val_generator,\n",
    "                                  epochs=200,\n",
    "                                  # callbacks=[model_ckpt,reduce_lr],\n",
    "                                  verbose=1)"
   ]
  },
  {
   "cell_type": "code",
   "execution_count": 10,
   "metadata": {},
   "outputs": [],
   "source": [
    "model.save(\"model_braille_sendiri.h5\", include_optimizer=True)"
   ]
  },
  {
   "cell_type": "code",
   "execution_count": 19,
   "metadata": {},
   "outputs": [
    {
     "name": "stdout",
     "output_type": "stream",
     "text": [
      "4/4 [==============================] - 0s 6ms/step - loss: 3.8809 - accuracy: 0.0636\n",
      "model accuracy: 0.0636\n"
     ]
    }
   ],
   "source": [
    "model = load_model('model_braille_sendiri.h5')\n",
    "acc = model.evaluate(val_generator)[1]\n",
    "print('model accuracy: {}'.format(round(acc,4)))"
   ]
  },
  {
   "cell_type": "code",
   "execution_count": 12,
   "metadata": {},
   "outputs": [
    {
     "data": {
      "image/png": "[encoded data removed]",
      "text/plain": [
       "<Figure size 432x288 with 1 Axes>"
      ]
     },
     "metadata": {
      "needs_background": "light"
     },
     "output_type": "display_data"
    },
    {
     "data": {
      "image/png": "[encoded data removed]",
      "text/plain": [
       "<Figure size 432x288 with 1 Axes>"
      ]
     },
     "metadata": {
      "needs_background": "light"
     },
     "output_type": "display_data"
    },
    {
     "data": {
      "text/plain": [
       "<Figure size 432x288 with 0 Axes>"
      ]
     },
     "metadata": {},
     "output_type": "display_data"
    }
   ],
   "source": [
    "import matplotlib.pyplot as plt\n",
    "plt.plot(history.history['loss'], label='train loss')\n",
    "plt.plot(history.history['val_loss'], label='val loss')\n",
    "plt.legend()\n",
    "plt.show()\n",
    "plt.savefig('LossVal_loss')\n",
    "\n",
    "# plot the accuracy\n",
    "plt.plot(history.history['accuracy'], label='train acc')\n",
    "plt.plot(history.history['val_accuracy'], label='val acc')\n",
    "plt.legend()\n",
    "plt.show()\n",
    "plt.savefig('AccVal_acc')"
   ]
  },
  {
   "cell_type": "code",
   "execution_count": 13,
   "metadata": {},
   "outputs": [
    {
     "name": "stdout",
     "output_type": "stream",
     "text": [
      "4/4 [==============================] - 0s 7ms/step\n"
     ]
    },
    {
     "data": {
      "text/plain": [
       "array([[4.50246444e-04, 1.52497948e-03, 6.73834002e-04, ...,\n",
       "        3.61299850e-02, 1.42311409e-01, 2.23727986e-01],\n",
       "       [2.19378341e-02, 4.31947783e-02, 5.49845323e-02, ...,\n",
       "        1.78294559e-03, 3.20064626e-03, 7.36749312e-03],\n",
       "       [1.34387622e-15, 1.08358485e-13, 1.17672183e-11, ...,\n",
       "        1.04173982e-16, 1.68229786e-21, 5.93750094e-28],\n",
       "       ...,\n",
       "       [3.75716835e-02, 1.98167213e-03, 1.19049540e-02, ...,\n",
       "        7.15895891e-02, 3.60156153e-03, 9.68739241e-02],\n",
       "       [1.99634098e-02, 3.06282397e-02, 4.59085265e-03, ...,\n",
       "        1.54977283e-02, 2.56249569e-02, 2.00599253e-01],\n",
       "       [2.08618758e-07, 9.94150937e-02, 9.73423564e-09, ...,\n",
       "        1.06420053e-10, 1.26120931e-05, 1.68125553e-07]], dtype=float32)"
      ]
     },
     "execution_count": 13,
     "metadata": {},
     "output_type": "execute_result"
    }
   ],
   "source": [
    "pred = model.predict(val_generator)\n",
    "pred"
   ]
  },
  {
   "cell_type": "code",
   "execution_count": 14,
   "metadata": {},
   "outputs": [],
   "source": [
    "import requests\n",
    "from io import BytesIO\n",
    "from PIL import Image\n",
    "import numpy as np\n",
    "\n",
    "# Parameters\n",
    "input_size = (28,28) # Bisa kalian ganti\n",
    "#define input shape\n",
    "channel = (3,)\n",
    "input_shape = input_size + channel\n",
    "#define labels\n",
    "labels = ['a', 'b', 'c', 'd', 'e', \n",
    "          'f', 'g', 'h', 'i', 'j', \n",
    "          'k', 'l', 'm', 'n', 'o', \n",
    "          'p', 'q', 'r', 's', 't', \n",
    "          'u', 'v', 'w', 'x', 'y', \n",
    "          'z']\n",
    "# labels = ['daisy', 'dandelion', 'rose', 'sunflower', 'tulip']"
   ]
  },
  {
   "cell_type": "code",
   "execution_count": 15,
   "metadata": {},
   "outputs": [
    {
     "name": "stdout",
     "output_type": "stream",
     "text": [
      "['a', 'b', 'c', 'd', 'e', 'f', 'g', 'h', 'i', 'j', 'k', 'l', 'm', 'n', 'o', 'p', 'q', 'r', 's', 't', 'u', 'v', 'w', 'x', 'y', 'z']\n"
     ]
    }
   ],
   "source": [
    "print(labels)"
   ]
  },
  {
   "cell_type": "code",
   "execution_count": 16,
   "metadata": {},
   "outputs": [],
   "source": [
    "def preprocess(img,input_size):\n",
    "    img_arr = (np.array(img))/255\n",
    "    return img_arr\n",
    "\n",
    "def reshape(imgs_arr):\n",
    "    return np.stack(imgs_arr, axis=0)"
   ]
  },
  {
   "cell_type": "code",
   "execution_count": 59,
   "metadata": {},
   "outputs": [],
   "source": [
    "model = load_model('model_braille_sendiri.h5')"
   ]
  },
  {
   "cell_type": "code",
   "execution_count": 62,
   "metadata": {},
   "outputs": [
    {
     "name": "stdout",
     "output_type": "stream",
     "text": [
      "1/1 [==============================] - 0s 55ms/step\n",
      "a 0.25004444\n",
      "1/1 [==============================] - 0s 12ms/step\n",
      "a 0.24976183\n",
      "1/1 [==============================] - 0s 11ms/step\n",
      "a 0.2499278\n",
      "1/1 [==============================] - 0s 11ms/step\n",
      "a 0.2500909\n",
      "1/1 [==============================] - 0s 11ms/step\n",
      "a 0.24986093\n",
      "1/1 [==============================] - 0s 19ms/step\n",
      "a 0.24693301\n",
      "1/1 [==============================] - 0s 12ms/step\n",
      "a 0.25238416\n",
      "1/1 [==============================] - 0s 12ms/step\n",
      "a 0.24861178\n",
      "1/1 [==============================] - 0s 11ms/step\n",
      "a 0.24702063\n",
      "1/1 [==============================] - 0s 13ms/step\n",
      "a 0.24976183\n",
      "1/1 [==============================] - 0s 12ms/step\n",
      "a 0.24984562\n",
      "1/1 [==============================] - 0s 11ms/step\n",
      "a 0.25075313\n",
      "1/1 [==============================] - 0s 12ms/step\n",
      "a 0.25060174\n",
      "1/1 [==============================] - 0s 11ms/step\n",
      "a 0.24747592\n",
      "1/1 [==============================] - 0s 12ms/step\n",
      "a 0.25078148\n",
      "1/1 [==============================] - 0s 12ms/step\n",
      "a 0.24840671\n",
      "1/1 [==============================] - 0s 12ms/step\n",
      "a 0.24932508\n",
      "1/1 [==============================] - 0s 12ms/step\n",
      "a 0.25032496\n",
      "1/1 [==============================] - 0s 11ms/step\n",
      "a 0.2512017\n",
      "1/1 [==============================] - 0s 12ms/step\n",
      "a 0.2489655\n",
      "1/1 [==============================] - 0s 24ms/step\n",
      "a 0.24987143\n",
      "1/1 [==============================] - 0s 15ms/step\n",
      "a 0.24876319\n",
      "1/1 [==============================] - 0s 13ms/step\n",
      "a 0.2499436\n",
      "1/1 [==============================] - 0s 13ms/step\n",
      "a 0.24889271\n",
      "1/1 [==============================] - 0s 14ms/step\n",
      "a 0.2500149\n",
      "1/1 [==============================] - 0s 13ms/step\n",
      "a 0.2516412\n",
      "1/1 [==============================] - 0s 12ms/step\n",
      "a 0.24857397\n",
      "1/1 [==============================] - 0s 14ms/step\n",
      "a 0.24942355\n",
      "1/1 [==============================] - 0s 12ms/step\n",
      "a 0.2519966\n",
      "1/1 [==============================] - 0s 14ms/step\n",
      "a 0.24833873\n",
      "1/1 [==============================] - 0s 12ms/step\n",
      "a 0.24968913\n",
      "1/1 [==============================] - 0s 12ms/step\n",
      "a 0.25077608\n",
      "1/1 [==============================] - 0s 11ms/step\n",
      "a 0.24940561\n",
      "1/1 [==============================] - 0s 11ms/step\n",
      "a 0.24941127\n",
      "1/1 [==============================] - 0s 22ms/step\n",
      "a 0.25042886\n",
      "1/1 [==============================] - 0s 11ms/step\n",
      "a 0.25185055\n",
      "1/1 [==============================] - 0s 14ms/step\n",
      "a 0.24969849\n",
      "1/1 [==============================] - 0s 11ms/step\n",
      "a 0.2499436\n",
      "1/1 [==============================] - 0s 11ms/step\n",
      "a 0.24976103\n",
      "1/1 [==============================] - 0s 11ms/step\n",
      "a 0.24807017\n",
      "1/1 [==============================] - 0s 12ms/step\n",
      "a 0.24834387\n",
      "1/1 [==============================] - 0s 12ms/step\n",
      "a 0.24973866\n",
      "1/1 [==============================] - 0s 12ms/step\n",
      "a 0.25044224\n",
      "1/1 [==============================] - 0s 11ms/step\n",
      "a 0.24726306\n",
      "1/1 [==============================] - 0s 11ms/step\n",
      "a 0.25064278\n",
      "1/1 [==============================] - 0s 12ms/step\n",
      "a 0.24901071\n",
      "1/1 [==============================] - 0s 12ms/step\n",
      "a 0.2459338\n",
      "1/1 [==============================] - 0s 11ms/step\n",
      "a 0.25034153\n",
      "1/1 [==============================] - 0s 12ms/step\n",
      "a 0.25066444\n",
      "1/1 [==============================] - 0s 20ms/step\n",
      "a 0.24832608\n",
      "1/1 [==============================] - 0s 11ms/step\n",
      "a 0.25002545\n",
      "1/1 [==============================] - 0s 13ms/step\n",
      "a 0.2519892\n",
      "1/1 [==============================] - 0s 17ms/step\n",
      "a 0.24977353\n",
      "1/1 [==============================] - 0s 16ms/step\n",
      "a 0.25068107\n",
      "1/1 [==============================] - 0s 15ms/step\n",
      "a 0.24979727\n",
      "1/1 [==============================] - 0s 13ms/step\n",
      "a 0.24773072\n",
      "1/1 [==============================] - 0s 15ms/step\n",
      "a 0.24949718\n",
      "1/1 [==============================] - 0s 11ms/step\n",
      "a 0.2508023\n",
      "1/1 [==============================] - 0s 11ms/step\n",
      "a 0.24981476\n",
      "1/1 [==============================] - 0s 13ms/step\n",
      "a 0.24841012\n"
     ]
    }
   ],
   "source": [
    "# read image\n",
    "rootdir = '/home/ichiro/KP_braille/images/a/'\n",
    "for image in os.listdir(rootdir):\n",
    "    im = Image.open(rootdir + image)\n",
    "    X = preprocess(im,input_size)\n",
    "    X = reshape([X])\n",
    "    y = model.predict(X)\n",
    "    print( labels[np.argmax(y)], np.max(y) )"
   ]
  },
  {
   "cell_type": "code",
   "execution_count": 23,
   "metadata": {},
   "outputs": [
    {
     "data": {
      "text/plain": [
       "array([[0.1442893 , 0.06317582, 0.10252789, 0.02610524, 0.05587863,\n",
       "        0.04316627, 0.01148933, 0.0306098 , 0.04115222, 0.01202821,\n",
       "        0.07218935, 0.05631194, 0.02920401, 0.01570179, 0.02971649,\n",
       "        0.03163375, 0.02054424, 0.02636941, 0.037118  , 0.01336915,\n",
       "        0.04045916, 0.02887296, 0.00532561, 0.02824382, 0.01415433,\n",
       "        0.02036335]], dtype=float32)"
      ]
     },
     "execution_count": 23,
     "metadata": {},
     "output_type": "execute_result"
    }
   ],
   "source": [
    "y"
   ]
  },
  {
   "cell_type": "code",
   "execution_count": 38,
   "metadata": {},
   "outputs": [
    {
     "name": "stdout",
     "output_type": "stream",
     "text": [
      "49/49 [==============================] - 12s 249ms/step - loss: 3.5454 - accuracy: 0.0385\n"
     ]
    }
   ],
   "source": [
    "test_loss, test_acc = model.evaluate(test_data, verbose=1)"
   ]
  },
  {
   "cell_type": "code",
   "execution_count": null,
   "metadata": {},
   "outputs": [],
   "source": []
  }
 ],
 "metadata": {
  "kernelspec": {
   "display_name": "Python 3 (ipykernel)",
   "language": "python",
   "name": "python3"
  },
  "language_info": {
   "codemirror_mode": {
    "name": "ipython",
    "version": 3
   },
   "file_extension": ".py",
   "mimetype": "text/x-python",
   "name": "python",
   "nbconvert_exporter": "python",
   "pygments_lexer": "ipython3",
   "version": "3.9.12"
  },
  "vscode": {
   "interpreter": {
    "hash": "916dbcbb3f70747c44a77c7bcd40155683ae19c65e1c03b4aa3499c5328201f1"
   }
  }
 },
 "nbformat": 4,
 "nbformat_minor": 4
}
